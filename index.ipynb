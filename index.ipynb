{
 "cells": [
  {
   "cell_type": "markdown",
   "metadata": {
    "toc": true
   },
   "source": [
    "<h1>Table of Contents<span class=\"tocSkip\"></span></h1>\n",
    "<div class=\"toc\"><ul class=\"toc-item\"><li><span><a href=\"#JSON-and-XML---Lab\" data-toc-modified-id=\"JSON-and-XML---Lab-1\"><span class=\"toc-item-num\">1&nbsp;&nbsp;</span>JSON and XML - Lab</a></span><ul class=\"toc-item\"><li><span><a href=\"#Introduction\" data-toc-modified-id=\"Introduction-1.1\"><span class=\"toc-item-num\">1.1&nbsp;&nbsp;</span>Introduction</a></span></li><li><span><a href=\"#Objectives\" data-toc-modified-id=\"Objectives-1.2\"><span class=\"toc-item-num\">1.2&nbsp;&nbsp;</span>Objectives</a></span></li><li><span><a href=\"#XML\" data-toc-modified-id=\"XML-1.3\"><span class=\"toc-item-num\">1.3&nbsp;&nbsp;</span>XML</a></span><ul class=\"toc-item\"><li><span><a href=\"#Create-an-XML-tree-and-retrieve-the-root-tag.\" data-toc-modified-id=\"Create-an-XML-tree-and-retrieve-the-root-tag.-1.3.1\"><span class=\"toc-item-num\">1.3.1&nbsp;&nbsp;</span>Create an XML tree and retrieve the root tag.</a></span></li><li><span><a href=\"#How-many-direct-descendents-does-the-root-tag-have?\" data-toc-modified-id=\"How-many-direct-descendents-does-the-root-tag-have?-1.3.2\"><span class=\"toc-item-num\">1.3.2&nbsp;&nbsp;</span>How many direct descendents does the root tag have?</a></span></li><li><span><a href=\"#How-many-different-types-of-tags-are-there-within-the-entire-XML-file?\" data-toc-modified-id=\"How-many-different-types-of-tags-are-there-within-the-entire-XML-file?-1.3.3\"><span class=\"toc-item-num\">1.3.3&nbsp;&nbsp;</span>How many different types of tags are there within the entire XML file?</a></span></li><li><span><a href=\"#Create-a-DataFrame-listing-the-number-of-each-type-of-tag.\" data-toc-modified-id=\"Create-a-DataFrame-listing-the-number-of-each-type-of-tag.-1.3.4\"><span class=\"toc-item-num\">1.3.4&nbsp;&nbsp;</span>Create a DataFrame listing the number of each type of tag.</a></span></li></ul></li><li><span><a href=\"#JSON\" data-toc-modified-id=\"JSON-1.4\"><span class=\"toc-item-num\">1.4&nbsp;&nbsp;</span>JSON</a></span><ul class=\"toc-item\"><li><span><a href=\"#Open-the-same-dataset-from-json\" data-toc-modified-id=\"Open-the-same-dataset-from-json-1.4.1\"><span class=\"toc-item-num\">1.4.1&nbsp;&nbsp;</span>Open the same dataset from json</a></span></li><li><span><a href=\"#What-is-the-root-data-type-of-the-json-file?\" data-toc-modified-id=\"What-is-the-root-data-type-of-the-json-file?-1.4.2\"><span class=\"toc-item-num\">1.4.2&nbsp;&nbsp;</span>What is the root data type of the json file?</a></span></li><li><span><a href=\"#Navigate-to-the-'data'-key-of-your-loaded-json-object.-What-data-type-is-this?\" data-toc-modified-id=\"Navigate-to-the-'data'-key-of-your-loaded-json-object.-What-data-type-is-this?-1.4.3\"><span class=\"toc-item-num\">1.4.3&nbsp;&nbsp;</span>Navigate to the 'data' key of your loaded json object. What data type is this?</a></span></li><li><span><a href=\"#Preview-the-first-entry-from-the-value-returned-by-the-'data'-key-above.\" data-toc-modified-id=\"Preview-the-first-entry-from-the-value-returned-by-the-'data'-key-above.-1.4.4\"><span class=\"toc-item-num\">1.4.4&nbsp;&nbsp;</span>Preview the first entry from the value returned by the 'data' key above.</a></span></li><li><span><a href=\"#Preview-the-Entry-under-meta-->-view-->-columns-(the-keys-of-three-successively-nested-dictionaries)\" data-toc-modified-id=\"Preview-the-Entry-under-meta-->-view-->-columns-(the-keys-of-three-successively-nested-dictionaries)-1.4.5\"><span class=\"toc-item-num\">1.4.5&nbsp;&nbsp;</span>Preview the Entry under meta -&gt; view -&gt; columns (the keys of three successively nested dictionaries)</a></span></li><li><span><a href=\"#Create-a-DataFrame-from-your-json-data\" data-toc-modified-id=\"Create-a-DataFrame-from-your-json-data-1.4.6\"><span class=\"toc-item-num\">1.4.6&nbsp;&nbsp;</span>Create a DataFrame from your json data</a></span></li><li><span><a href=\"#What's-wrong-with-the-first-row-of-the-DataFrame?\" data-toc-modified-id=\"What's-wrong-with-the-first-row-of-the-DataFrame?-1.4.7\"><span class=\"toc-item-num\">1.4.7&nbsp;&nbsp;</span>What's wrong with the first row of the DataFrame?</a></span></li></ul></li><li><span><a href=\"#Summary\" data-toc-modified-id=\"Summary-1.5\"><span class=\"toc-item-num\">1.5&nbsp;&nbsp;</span>Summary</a></span></li></ul></li></ul></div>"
   ]
  },
  {
   "cell_type": "markdown",
   "metadata": {},
   "source": [
    "# JSON and XML - Lab"
   ]
  },
  {
   "cell_type": "markdown",
   "metadata": {},
   "source": [
    "## Introduction\n",
    "\n",
    "In this lab, you'll practice navigating JSON and XML data structures."
   ]
  },
  {
   "cell_type": "markdown",
   "metadata": {},
   "source": [
    "## Objectives\n",
    "You will be able to:\n",
    "* Effectively use the JSON module to load and parse JSON documents\n",
    "* Read and access data stored in JSON and XML\n",
    "* Compare  and contrast the JSON and XML as data interchange types\n"
   ]
  },
  {
   "cell_type": "markdown",
   "metadata": {},
   "source": [
    "## XML"
   ]
  },
  {
   "cell_type": "code",
   "execution_count": 39,
   "metadata": {
    "ExecuteTime": {
     "end_time": "2020-01-06T10:29:56.199185Z",
     "start_time": "2020-01-06T10:29:56.194490Z"
    },
    "collapsed": true
   },
   "outputs": [],
   "source": [
    "import xml.etree.ElementTree as ET"
   ]
  },
  {
   "cell_type": "markdown",
   "metadata": {},
   "source": [
    "### Create an XML tree and retrieve the root tag."
   ]
  },
  {
   "cell_type": "code",
   "execution_count": 40,
   "metadata": {
    "ExecuteTime": {
     "end_time": "2020-01-06T10:29:56.760557Z",
     "start_time": "2020-01-06T10:29:56.743992Z"
    }
   },
   "outputs": [],
   "source": [
    "tree = ET.parse('nyc_2001_campaign_finance.xml')\n",
    "root = tree.getroot() #retrieve the root tag."
   ]
  },
  {
   "cell_type": "markdown",
   "metadata": {},
   "source": [
    "### How many direct descendents does the root tag have?"
   ]
  },
  {
   "cell_type": "code",
   "execution_count": 41,
   "metadata": {
    "ExecuteTime": {
     "end_time": "2020-01-06T10:29:57.392463Z",
     "start_time": "2020-01-06T10:29:57.385820Z"
    }
   },
   "outputs": [
    {
     "name": "stdout",
     "output_type": "stream",
     "text": [
      "1\n"
     ]
    }
   ],
   "source": [
    "#Answer: 1\n",
    "count = 0 #start an initial count of 0\n",
    "for child in root:\n",
    "    count += 1\n",
    "print(count)"
   ]
  },
  {
   "cell_type": "markdown",
   "metadata": {},
   "source": [
    "### How many different types of tags are there within the entire XML file?"
   ]
  },
  {
   "cell_type": "code",
   "execution_count": 42,
   "metadata": {
    "ExecuteTime": {
     "end_time": "2020-01-06T10:29:58.268977Z",
     "start_time": "2020-01-06T10:29:58.258521Z"
    }
   },
   "outputs": [
    {
     "name": "stdout",
     "output_type": "stream",
     "text": [
      "13\n"
     ]
    }
   ],
   "source": [
    "tags = [] #start a list for tags\n",
    "for element in root.iter():\n",
    "    tags.append(element.tag)\n",
    "print(len(set(tags))) #set will help you find individual elements (not repeats)"
   ]
  },
  {
   "cell_type": "markdown",
   "metadata": {},
   "source": [
    "### Create a DataFrame listing the number of each type of tag. \n",
    "Sort the DataFrame in descending order by the tag count. The first entry should demonstrate there are 286 row tags in the XML file.   \n",
    "(Your DataFrame will be a single column, so could also be thought of as a Series.)"
   ]
  },
  {
   "cell_type": "code",
   "execution_count": 43,
   "metadata": {
    "ExecuteTime": {
     "end_time": "2020-01-06T10:29:59.007009Z",
     "start_time": "2020-01-06T10:29:59.000627Z"
    },
    "collapsed": true
   },
   "outputs": [],
   "source": [
    "import pandas as pd"
   ]
  },
  {
   "cell_type": "code",
   "execution_count": 44,
   "metadata": {
    "ExecuteTime": {
     "end_time": "2020-01-06T10:29:59.521327Z",
     "start_time": "2020-01-06T10:29:59.500309Z"
    }
   },
   "outputs": [
    {
     "data": {
      "text/html": [
       "<div>\n",
       "<style scoped>\n",
       "    .dataframe tbody tr th:only-of-type {\n",
       "        vertical-align: middle;\n",
       "    }\n",
       "\n",
       "    .dataframe tbody tr th {\n",
       "        vertical-align: top;\n",
       "    }\n",
       "\n",
       "    .dataframe thead th {\n",
       "        text-align: right;\n",
       "    }\n",
       "</style>\n",
       "<table border=\"1\" class=\"dataframe\">\n",
       "  <thead>\n",
       "    <tr style=\"text-align: right;\">\n",
       "      <th></th>\n",
       "      <th>count</th>\n",
       "    </tr>\n",
       "  </thead>\n",
       "  <tbody>\n",
       "    <tr>\n",
       "      <th>row</th>\n",
       "      <td>286</td>\n",
       "    </tr>\n",
       "    <tr>\n",
       "      <th>candid</th>\n",
       "      <td>285</td>\n",
       "    </tr>\n",
       "    <tr>\n",
       "      <th>candname</th>\n",
       "      <td>285</td>\n",
       "    </tr>\n",
       "    <tr>\n",
       "      <th>canclass</th>\n",
       "      <td>285</td>\n",
       "    </tr>\n",
       "    <tr>\n",
       "      <th>election</th>\n",
       "      <td>284</td>\n",
       "    </tr>\n",
       "  </tbody>\n",
       "</table>\n",
       "</div>"
      ],
      "text/plain": [
       "          count\n",
       "row         286\n",
       "candid      285\n",
       "candname    285\n",
       "canclass    285\n",
       "election    284"
      ]
     },
     "execution_count": 44,
     "metadata": {},
     "output_type": "execute_result"
    }
   ],
   "source": [
    "tags = {}\n",
    "for element in root.iter():\n",
    "    tags[element.tag] = tags.get(element.tag, 0) + 1\n",
    "df = pd.DataFrame.from_dict(tags, orient = 'index')\n",
    "df.columns = ['count'] #give column name\n",
    "df = df.sort_values(by='count', ascending=False)\n",
    "df.head()"
   ]
  },
  {
   "cell_type": "markdown",
   "metadata": {},
   "source": [
    "## JSON"
   ]
  },
  {
   "cell_type": "markdown",
   "metadata": {},
   "source": [
    "### Open the same dataset from json"
   ]
  },
  {
   "cell_type": "code",
   "execution_count": 45,
   "metadata": {
    "ExecuteTime": {
     "end_time": "2020-01-06T10:30:00.783236Z",
     "start_time": "2020-01-06T10:30:00.774717Z"
    }
   },
   "outputs": [],
   "source": [
    "import json\n",
    "f = open('nyc_2001_campaign_finance.json')\n",
    "data = json.load(f)"
   ]
  },
  {
   "cell_type": "markdown",
   "metadata": {},
   "source": [
    "### What is the root data type of the json file?"
   ]
  },
  {
   "cell_type": "code",
   "execution_count": 46,
   "metadata": {
    "ExecuteTime": {
     "end_time": "2020-01-06T10:30:01.576057Z",
     "start_time": "2020-01-06T10:30:01.565921Z"
    }
   },
   "outputs": [
    {
     "data": {
      "text/plain": [
       "dict"
      ]
     },
     "execution_count": 46,
     "metadata": {},
     "output_type": "execute_result"
    }
   ],
   "source": [
    "type(data)"
   ]
  },
  {
   "cell_type": "markdown",
   "metadata": {},
   "source": [
    "### Navigate to the 'data' key of your loaded json object. What data type is this?"
   ]
  },
  {
   "cell_type": "code",
   "execution_count": 47,
   "metadata": {
    "ExecuteTime": {
     "end_time": "2020-01-06T10:30:02.097664Z",
     "start_time": "2020-01-06T10:30:02.084859Z"
    }
   },
   "outputs": [
    {
     "data": {
      "text/plain": [
       "list"
      ]
     },
     "execution_count": 47,
     "metadata": {},
     "output_type": "execute_result"
    }
   ],
   "source": [
    "type(data['data'])"
   ]
  },
  {
   "cell_type": "markdown",
   "metadata": {},
   "source": [
    "### Preview the first entry from the value returned by the 'data' key above."
   ]
  },
  {
   "cell_type": "code",
   "execution_count": 48,
   "metadata": {
    "ExecuteTime": {
     "end_time": "2020-01-06T10:30:03.353869Z",
     "start_time": "2020-01-06T10:30:03.345359Z"
    }
   },
   "outputs": [
    {
     "data": {
      "text/plain": [
       "[1,\n",
       " 'E3E9CC9F-7443-43F6-94AF-B5A0F802DBA1',\n",
       " 1,\n",
       " 1315925633,\n",
       " '392904',\n",
       " 1315925633,\n",
       " '392904',\n",
       " '{\\n  \"invalidCells\" : {\\n    \"1519001\" : \"TOTALPAY\",\\n    \"1518998\" : \"PRIMARYPAY\",\\n    \"1519000\" : \"RUNOFFPAY\",\\n    \"1518999\" : \"GENERALPAY\",\\n    \"1518994\" : \"OFFICECD\",\\n    \"1518996\" : \"OFFICEDIST\",\\n    \"1518991\" : \"ELECTION\"\\n  }\\n}',\n",
       " None,\n",
       " 'CANDID',\n",
       " 'CANDNAME',\n",
       " None,\n",
       " 'OFFICEBORO',\n",
       " None,\n",
       " 'CANCLASS',\n",
       " None,\n",
       " None,\n",
       " None,\n",
       " None]"
      ]
     },
     "metadata": {},
     "output_type": "display_data"
    }
   ],
   "source": [
    "display(data['data'][0])"
   ]
  },
  {
   "cell_type": "markdown",
   "metadata": {},
   "source": [
    "### Preview the Entry under meta -> view -> columns (the keys of three successively nested dictionaries)"
   ]
  },
  {
   "cell_type": "code",
   "execution_count": 35,
   "metadata": {
    "ExecuteTime": {
     "end_time": "2020-01-06T10:29:32.095784Z",
     "start_time": "2020-01-06T10:29:32.048871Z"
    }
   },
   "outputs": [
    {
     "data": {
      "text/plain": [
       "[{'id': -1,\n",
       "  'name': 'sid',\n",
       "  'dataTypeName': 'meta_data',\n",
       "  'fieldName': ':sid',\n",
       "  'position': 0,\n",
       "  'renderTypeName': 'meta_data',\n",
       "  'format': {},\n",
       "  'flags': ['hidden']},\n",
       " {'id': -1,\n",
       "  'name': 'id',\n",
       "  'dataTypeName': 'meta_data',\n",
       "  'fieldName': ':id',\n",
       "  'position': 0,\n",
       "  'renderTypeName': 'meta_data',\n",
       "  'format': {},\n",
       "  'flags': ['hidden']},\n",
       " {'id': -1,\n",
       "  'name': 'position',\n",
       "  'dataTypeName': 'meta_data',\n",
       "  'fieldName': ':position',\n",
       "  'position': 0,\n",
       "  'renderTypeName': 'meta_data',\n",
       "  'format': {},\n",
       "  'flags': ['hidden']},\n",
       " {'id': -1,\n",
       "  'name': 'created_at',\n",
       "  'dataTypeName': 'meta_data',\n",
       "  'fieldName': ':created_at',\n",
       "  'position': 0,\n",
       "  'renderTypeName': 'meta_data',\n",
       "  'format': {},\n",
       "  'flags': ['hidden']},\n",
       " {'id': -1,\n",
       "  'name': 'created_meta',\n",
       "  'dataTypeName': 'meta_data',\n",
       "  'fieldName': ':created_meta',\n",
       "  'position': 0,\n",
       "  'renderTypeName': 'meta_data',\n",
       "  'format': {},\n",
       "  'flags': ['hidden']},\n",
       " {'id': -1,\n",
       "  'name': 'updated_at',\n",
       "  'dataTypeName': 'meta_data',\n",
       "  'fieldName': ':updated_at',\n",
       "  'position': 0,\n",
       "  'renderTypeName': 'meta_data',\n",
       "  'format': {},\n",
       "  'flags': ['hidden']},\n",
       " {'id': -1,\n",
       "  'name': 'updated_meta',\n",
       "  'dataTypeName': 'meta_data',\n",
       "  'fieldName': ':updated_meta',\n",
       "  'position': 0,\n",
       "  'renderTypeName': 'meta_data',\n",
       "  'format': {},\n",
       "  'flags': ['hidden']},\n",
       " {'id': -1,\n",
       "  'name': 'meta',\n",
       "  'dataTypeName': 'meta_data',\n",
       "  'fieldName': ':meta',\n",
       "  'position': 0,\n",
       "  'renderTypeName': 'meta_data',\n",
       "  'format': {},\n",
       "  'flags': ['hidden']},\n",
       " {'id': 75768833,\n",
       "  'name': 'ELECTION',\n",
       "  'dataTypeName': 'number',\n",
       "  'fieldName': 'election',\n",
       "  'position': 2,\n",
       "  'renderTypeName': 'number',\n",
       "  'tableColumnId': 1518991,\n",
       "  'width': 196,\n",
       "  'cachedContents': {'non_null': 284,\n",
       "   'average': '2001',\n",
       "   'largest': '2001',\n",
       "   'null': 1,\n",
       "   'top': [{'item': '2001', 'count': 20}],\n",
       "   'smallest': '2001',\n",
       "   'sum': '568284'},\n",
       "  'format': {'precisionStyle': 'standard',\n",
       "   'noCommas': 'true',\n",
       "   'align': 'right'}},\n",
       " {'id': 75768834,\n",
       "  'name': 'CANDID',\n",
       "  'dataTypeName': 'text',\n",
       "  'fieldName': 'candid',\n",
       "  'position': 3,\n",
       "  'renderTypeName': 'text',\n",
       "  'tableColumnId': 1518992,\n",
       "  'width': 172,\n",
       "  'cachedContents': {'non_null': 285,\n",
       "   'largest': 'YA',\n",
       "   'null': 0,\n",
       "   'top': [{'item': '490', 'count': 20},\n",
       "    {'item': '577', 'count': 19},\n",
       "    {'item': 'GF', 'count': 18},\n",
       "    {'item': '265', 'count': 17},\n",
       "    {'item': '549', 'count': 16},\n",
       "    {'item': '260', 'count': 15},\n",
       "    {'item': 'DH', 'count': 14},\n",
       "    {'item': '168', 'count': 13},\n",
       "    {'item': '561', 'count': 12},\n",
       "    {'item': '317', 'count': 11},\n",
       "    {'item': '240', 'count': 10},\n",
       "    {'item': 'B1', 'count': 9},\n",
       "    {'item': '337', 'count': 8},\n",
       "    {'item': '202', 'count': 7},\n",
       "    {'item': 'DP', 'count': 6},\n",
       "    {'item': '554', 'count': 5},\n",
       "    {'item': '529', 'count': 4},\n",
       "    {'item': '521', 'count': 3},\n",
       "    {'item': 'CY', 'count': 2},\n",
       "    {'item': '327', 'count': 1}],\n",
       "   'smallest': '148'},\n",
       "  'format': {}},\n",
       " {'id': 75768835,\n",
       "  'name': 'CANDNAME',\n",
       "  'dataTypeName': 'text',\n",
       "  'fieldName': 'candname',\n",
       "  'position': 4,\n",
       "  'renderTypeName': 'text',\n",
       "  'tableColumnId': 1518993,\n",
       "  'width': 196,\n",
       "  'cachedContents': {'non_null': 285,\n",
       "   'largest': 'Zett, Lori M',\n",
       "   'null': 0,\n",
       "   'top': [{'item': 'Taitt, Samuel A', 'count': 20},\n",
       "    {'item': 'Taliaferro, Phyllis', 'count': 19},\n",
       "    {'item': 'Taveras, Germania', 'count': 18},\n",
       "    {'item': 'Thakral, Jairam D', 'count': 17},\n",
       "    {'item': 'Thomas, Carl W', 'count': 16},\n",
       "    {'item': 'Thompson, Jr., William C', 'count': 15},\n",
       "    {'item': 'Tiraco, Joseph E', 'count': 14},\n",
       "    {'item': 'Toney, Vaughan', 'count': 13},\n",
       "    {'item': 'Toppin, Roger N', 'count': 12},\n",
       "    {'item': 'Torres, Mario A', 'count': 11},\n",
       "    {'item': 'Vallone, Jr., Peter F', 'count': 10},\n",
       "    {'item': 'Vallone, Peter F', 'count': 9},\n",
       "    {'item': 'Van Bramer, James G', 'count': 8},\n",
       "    {'item': 'Vann, Albert', 'count': 7},\n",
       "    {'item': 'Vargas, Ruben Dario', 'count': 6},\n",
       "    {'item': 'Vassos, Sandra', 'count': 5},\n",
       "    {'item': 'Vernet, Jean D', 'count': 4},\n",
       "    {'item': 'Viest, Nicholas D', 'count': 3},\n",
       "    {'item': 'Villaverde, Sergio', 'count': 2},\n",
       "    {'item': 'Vogel, Mark H', 'count': 1}],\n",
       "   'smallest': 'Aboulafia, Sandy'},\n",
       "  'format': {}},\n",
       " {'id': 75768836,\n",
       "  'name': 'OFFICECD',\n",
       "  'dataTypeName': 'number',\n",
       "  'fieldName': 'officecd',\n",
       "  'position': 5,\n",
       "  'renderTypeName': 'number',\n",
       "  'tableColumnId': 1518994,\n",
       "  'width': 196,\n",
       "  'cachedContents': {'non_null': 284,\n",
       "   'average': '4.700704225352113',\n",
       "   'largest': '5',\n",
       "   'null': 1,\n",
       "   'top': [{'item': '5', 'count': 20},\n",
       "    {'item': '1', 'count': 19},\n",
       "    {'item': '3', 'count': 18},\n",
       "    {'item': '4', 'count': 17},\n",
       "    {'item': '2', 'count': 16}],\n",
       "   'smallest': '1',\n",
       "   'sum': '1335'},\n",
       "  'format': {}},\n",
       " {'id': 75768837,\n",
       "  'name': 'OFFICEBORO',\n",
       "  'dataTypeName': 'text',\n",
       "  'fieldName': 'officeboro',\n",
       "  'position': 6,\n",
       "  'renderTypeName': 'text',\n",
       "  'tableColumnId': 1518995,\n",
       "  'width': 220,\n",
       "  'cachedContents': {'non_null': 21,\n",
       "   'largest': 'X',\n",
       "   'null': 264,\n",
       "   'top': [{'item': 'OFFICEBORO', 'count': 20},\n",
       "    {'item': 'X', 'count': 19},\n",
       "    {'item': 'M', 'count': 18},\n",
       "    {'item': 'K', 'count': 17},\n",
       "    {'item': 'Q', 'count': 16},\n",
       "    {'item': 'S', 'count': 15}],\n",
       "   'smallest': 'K'},\n",
       "  'format': {}},\n",
       " {'id': 75768838,\n",
       "  'name': 'OFFICEDIST',\n",
       "  'dataTypeName': 'number',\n",
       "  'fieldName': 'officedist',\n",
       "  'position': 7,\n",
       "  'renderTypeName': 'number',\n",
       "  'tableColumnId': 1518996,\n",
       "  'width': 220,\n",
       "  'cachedContents': {'non_null': 245,\n",
       "   'average': '26.33061224489796',\n",
       "   'largest': '51',\n",
       "   'null': 40,\n",
       "   'top': [{'item': '7', 'count': 20},\n",
       "    {'item': '32', 'count': 19},\n",
       "    {'item': '37', 'count': 18},\n",
       "    {'item': '28', 'count': 17},\n",
       "    {'item': '19', 'count': 16},\n",
       "    {'item': '39', 'count': 15},\n",
       "    {'item': '35', 'count': 14},\n",
       "    {'item': '42', 'count': 13},\n",
       "    {'item': '31', 'count': 12},\n",
       "    {'item': '6', 'count': 11},\n",
       "    {'item': '47', 'count': 10},\n",
       "    {'item': '20', 'count': 9},\n",
       "    {'item': '1', 'count': 8},\n",
       "    {'item': '27', 'count': 7},\n",
       "    {'item': '26', 'count': 6},\n",
       "    {'item': '10', 'count': 5},\n",
       "    {'item': '34', 'count': 4},\n",
       "    {'item': '45', 'count': 3},\n",
       "    {'item': '40', 'count': 2},\n",
       "    {'item': '12', 'count': 1}],\n",
       "   'smallest': '1',\n",
       "   'sum': '6451'},\n",
       "  'format': {}},\n",
       " {'id': 75768839,\n",
       "  'name': 'CANCLASS',\n",
       "  'dataTypeName': 'text',\n",
       "  'fieldName': 'canclass',\n",
       "  'position': 8,\n",
       "  'renderTypeName': 'text',\n",
       "  'tableColumnId': 1518997,\n",
       "  'width': 196,\n",
       "  'cachedContents': {'non_null': 285,\n",
       "   'largest': 'P',\n",
       "   'null': 0,\n",
       "   'top': [{'item': 'CANCLASS', 'count': 20}, {'item': 'P', 'count': 19}],\n",
       "   'smallest': 'CANCLASS'},\n",
       "  'format': {}},\n",
       " {'id': 75768840,\n",
       "  'name': 'PRIMARYPAY',\n",
       "  'dataTypeName': 'number',\n",
       "  'fieldName': 'primarypay',\n",
       "  'position': 9,\n",
       "  'renderTypeName': 'number',\n",
       "  'tableColumnId': 1518998,\n",
       "  'width': 220,\n",
       "  'cachedContents': {'non_null': 284,\n",
       "   'average': '112243.9612676056',\n",
       "   'largest': '2846148.00',\n",
       "   'null': 1,\n",
       "   'top': [{'item': '75350.00', 'count': 20},\n",
       "    {'item': '0', 'count': 19},\n",
       "    {'item': '91333.00', 'count': 18},\n",
       "    {'item': '69780.00', 'count': 17},\n",
       "    {'item': '22172.00', 'count': 16},\n",
       "    {'item': '65356.00', 'count': 15},\n",
       "    {'item': '11423.00', 'count': 14},\n",
       "    {'item': '60152.00', 'count': 13},\n",
       "    {'item': '75040.00', 'count': 12},\n",
       "    {'item': '62436.00', 'count': 11},\n",
       "    {'item': '42075.00', 'count': 10},\n",
       "    {'item': '74920.00', 'count': 9},\n",
       "    {'item': '38088.00', 'count': 8},\n",
       "    {'item': '74850.00', 'count': 7},\n",
       "    {'item': '89502.00', 'count': 6},\n",
       "    {'item': '74350.00', 'count': 5},\n",
       "    {'item': '58348.00', 'count': 4},\n",
       "    {'item': '55100.00', 'count': 3},\n",
       "    {'item': '508893.00', 'count': 2},\n",
       "    {'item': '74750.00', 'count': 1}],\n",
       "   'smallest': '0',\n",
       "   'sum': '31877285.00'},\n",
       "  'format': {}},\n",
       " {'id': 75768841,\n",
       "  'name': 'GENERALPAY',\n",
       "  'dataTypeName': 'number',\n",
       "  'fieldName': 'generalpay',\n",
       "  'position': 10,\n",
       "  'renderTypeName': 'number',\n",
       "  'tableColumnId': 1518999,\n",
       "  'width': 220,\n",
       "  'cachedContents': {'non_null': 284,\n",
       "   'average': '28753.57394366197',\n",
       "   'largest': '976545.00',\n",
       "   'null': 1,\n",
       "   'top': [{'item': '0', 'count': 20},\n",
       "    {'item': '75350.00', 'count': 19},\n",
       "    {'item': '201131.00', 'count': 18},\n",
       "    {'item': '39760.00', 'count': 17},\n",
       "    {'item': '57796.00', 'count': 16},\n",
       "    {'item': '75200.00', 'count': 15},\n",
       "    {'item': '68234.00', 'count': 14},\n",
       "    {'item': '5732.00', 'count': 13},\n",
       "    {'item': '58488.00', 'count': 12},\n",
       "    {'item': '62184.00', 'count': 11},\n",
       "    {'item': '44748.00', 'count': 10},\n",
       "    {'item': '21946.00', 'count': 9},\n",
       "    {'item': '70500.00', 'count': 8}],\n",
       "   'smallest': '0',\n",
       "   'sum': '8166015.00'},\n",
       "  'format': {}},\n",
       " {'id': 75768842,\n",
       "  'name': 'RUNOFFPAY',\n",
       "  'dataTypeName': 'number',\n",
       "  'fieldName': 'runoffpay',\n",
       "  'position': 11,\n",
       "  'renderTypeName': 'number',\n",
       "  'tableColumnId': 1519000,\n",
       "  'width': 208,\n",
       "  'cachedContents': {'non_null': 284,\n",
       "   'average': '7776.778169014085',\n",
       "   'largest': '711537.00',\n",
       "   'null': 1,\n",
       "   'top': [{'item': '0', 'count': 20},\n",
       "    {'item': '267331.00', 'count': 19},\n",
       "    {'item': '574387.00', 'count': 18},\n",
       "    {'item': '303270.00', 'count': 17},\n",
       "    {'item': '711537.00', 'count': 16},\n",
       "    {'item': '114407.00', 'count': 15},\n",
       "    {'item': '237673.00', 'count': 14}],\n",
       "   'smallest': '0',\n",
       "   'sum': '2208605.00'},\n",
       "  'format': {}},\n",
       " {'id': 75768843,\n",
       "  'name': 'TOTALPAY',\n",
       "  'dataTypeName': 'number',\n",
       "  'fieldName': 'totalpay',\n",
       "  'position': 12,\n",
       "  'renderTypeName': 'number',\n",
       "  'tableColumnId': 1519001,\n",
       "  'width': 196,\n",
       "  'cachedContents': {'non_null': 284,\n",
       "   'average': '148774.3133802817',\n",
       "   'largest': '4534230.00',\n",
       "   'null': 1,\n",
       "   'top': [{'item': '0', 'count': 20},\n",
       "    {'item': '75350.00', 'count': 19},\n",
       "    {'item': '150700.00', 'count': 18},\n",
       "    {'item': '2458534.00', 'count': 17},\n",
       "    {'item': '133146.00', 'count': 16},\n",
       "    {'item': '75200.00', 'count': 15},\n",
       "    {'item': '68234.00', 'count': 14},\n",
       "    {'item': '70664.00', 'count': 13},\n",
       "    {'item': '58488.00', 'count': 12},\n",
       "    {'item': '50112.00', 'count': 11},\n",
       "    {'item': '62184.00', 'count': 10},\n",
       "    {'item': '44748.00', 'count': 9},\n",
       "    {'item': '21946.00', 'count': 8},\n",
       "    {'item': '41656.00', 'count': 7},\n",
       "    {'item': '61260.00', 'count': 6},\n",
       "    {'item': '145850.00', 'count': 5},\n",
       "    {'item': '35808.00', 'count': 4},\n",
       "    {'item': '12172.00', 'count': 3}],\n",
       "   'smallest': '0',\n",
       "   'sum': '42251905.00'},\n",
       "  'format': {}}]"
      ]
     },
     "execution_count": 35,
     "metadata": {},
     "output_type": "execute_result"
    }
   ],
   "source": [
    "data['meta']['view']['columns']"
   ]
  },
  {
   "cell_type": "markdown",
   "metadata": {},
   "source": [
    "### Create a DataFrame from your json data\n",
    "The previous two questions previewed one entry from the data object within the json file, as well as the column details associated with that data from the meta entry within the json file. Both should have 19 entries. Create a DataFrame of the data. Be sure to use the information from the meta entry to add appropriate column names to your DataFrame."
   ]
  },
  {
   "cell_type": "code",
   "execution_count": 49,
   "metadata": {
    "ExecuteTime": {
     "end_time": "2020-01-06T10:40:29.868530Z",
     "start_time": "2020-01-06T10:40:29.786761Z"
    }
   },
   "outputs": [
    {
     "data": {
      "text/html": [
       "<div>\n",
       "<style scoped>\n",
       "    .dataframe tbody tr th:only-of-type {\n",
       "        vertical-align: middle;\n",
       "    }\n",
       "\n",
       "    .dataframe tbody tr th {\n",
       "        vertical-align: top;\n",
       "    }\n",
       "\n",
       "    .dataframe thead th {\n",
       "        text-align: right;\n",
       "    }\n",
       "</style>\n",
       "<table border=\"1\" class=\"dataframe\">\n",
       "  <thead>\n",
       "    <tr style=\"text-align: right;\">\n",
       "      <th></th>\n",
       "      <th>sid</th>\n",
       "      <th>id</th>\n",
       "      <th>position</th>\n",
       "      <th>created_at</th>\n",
       "      <th>created_meta</th>\n",
       "      <th>updated_at</th>\n",
       "      <th>updated_meta</th>\n",
       "      <th>meta</th>\n",
       "      <th>ELECTION</th>\n",
       "      <th>CANDID</th>\n",
       "      <th>CANDNAME</th>\n",
       "      <th>OFFICECD</th>\n",
       "      <th>OFFICEBORO</th>\n",
       "      <th>OFFICEDIST</th>\n",
       "      <th>CANCLASS</th>\n",
       "      <th>PRIMARYPAY</th>\n",
       "      <th>GENERALPAY</th>\n",
       "      <th>RUNOFFPAY</th>\n",
       "      <th>TOTALPAY</th>\n",
       "    </tr>\n",
       "  </thead>\n",
       "  <tbody>\n",
       "    <tr>\n",
       "      <th>0</th>\n",
       "      <td>1</td>\n",
       "      <td>E3E9CC9F-7443-43F6-94AF-B5A0F802DBA1</td>\n",
       "      <td>1</td>\n",
       "      <td>1315925633</td>\n",
       "      <td>392904</td>\n",
       "      <td>1315925633</td>\n",
       "      <td>392904</td>\n",
       "      <td>{\\n  \"invalidCells\" : {\\n    \"1519001\" : \"TOTA...</td>\n",
       "      <td>None</td>\n",
       "      <td>CANDID</td>\n",
       "      <td>CANDNAME</td>\n",
       "      <td>None</td>\n",
       "      <td>OFFICEBORO</td>\n",
       "      <td>None</td>\n",
       "      <td>CANCLASS</td>\n",
       "      <td>None</td>\n",
       "      <td>None</td>\n",
       "      <td>None</td>\n",
       "      <td>None</td>\n",
       "    </tr>\n",
       "    <tr>\n",
       "      <th>1</th>\n",
       "      <td>2</td>\n",
       "      <td>9D257416-581A-4C42-85CC-B6EAD9DED97F</td>\n",
       "      <td>2</td>\n",
       "      <td>1315925633</td>\n",
       "      <td>392904</td>\n",
       "      <td>1315925633</td>\n",
       "      <td>392904</td>\n",
       "      <td>{\\n}</td>\n",
       "      <td>2001</td>\n",
       "      <td>B4</td>\n",
       "      <td>Aboulafia, Sandy</td>\n",
       "      <td>5</td>\n",
       "      <td>None</td>\n",
       "      <td>44</td>\n",
       "      <td>P</td>\n",
       "      <td>45410.00</td>\n",
       "      <td>0</td>\n",
       "      <td>0</td>\n",
       "      <td>45410.00</td>\n",
       "    </tr>\n",
       "    <tr>\n",
       "      <th>2</th>\n",
       "      <td>3</td>\n",
       "      <td>B80D7891-93CF-49E8-86E8-182B618E68F2</td>\n",
       "      <td>3</td>\n",
       "      <td>1315925633</td>\n",
       "      <td>392904</td>\n",
       "      <td>1315925633</td>\n",
       "      <td>392904</td>\n",
       "      <td>{\\n}</td>\n",
       "      <td>2001</td>\n",
       "      <td>445</td>\n",
       "      <td>Adams, Jackie R</td>\n",
       "      <td>5</td>\n",
       "      <td>None</td>\n",
       "      <td>7</td>\n",
       "      <td>P</td>\n",
       "      <td>11073.00</td>\n",
       "      <td>0</td>\n",
       "      <td>0</td>\n",
       "      <td>11073.00</td>\n",
       "    </tr>\n",
       "    <tr>\n",
       "      <th>3</th>\n",
       "      <td>4</td>\n",
       "      <td>BB012003-78F5-406D-8A87-7FF8A425EE3F</td>\n",
       "      <td>4</td>\n",
       "      <td>1315925633</td>\n",
       "      <td>392904</td>\n",
       "      <td>1315925633</td>\n",
       "      <td>392904</td>\n",
       "      <td>{\\n}</td>\n",
       "      <td>2001</td>\n",
       "      <td>HF</td>\n",
       "      <td>Addabbo, Joseph P</td>\n",
       "      <td>5</td>\n",
       "      <td>None</td>\n",
       "      <td>32</td>\n",
       "      <td>P</td>\n",
       "      <td>75350.00</td>\n",
       "      <td>73970.00</td>\n",
       "      <td>0</td>\n",
       "      <td>149320.00</td>\n",
       "    </tr>\n",
       "    <tr>\n",
       "      <th>4</th>\n",
       "      <td>5</td>\n",
       "      <td>945825F9-2F5D-47C2-A16B-75B93E61E1AD</td>\n",
       "      <td>5</td>\n",
       "      <td>1315925633</td>\n",
       "      <td>392904</td>\n",
       "      <td>1315925633</td>\n",
       "      <td>392904</td>\n",
       "      <td>{\\n}</td>\n",
       "      <td>2001</td>\n",
       "      <td>IR</td>\n",
       "      <td>Alamo-Estrada, Agustin</td>\n",
       "      <td>5</td>\n",
       "      <td>None</td>\n",
       "      <td>14</td>\n",
       "      <td>P</td>\n",
       "      <td>25000.00</td>\n",
       "      <td>2400.00</td>\n",
       "      <td>0</td>\n",
       "      <td>27400.00</td>\n",
       "    </tr>\n",
       "  </tbody>\n",
       "</table>\n",
       "</div>"
      ],
      "text/plain": [
       "   sid                                    id  position  created_at  \\\n",
       "0    1  E3E9CC9F-7443-43F6-94AF-B5A0F802DBA1         1  1315925633   \n",
       "1    2  9D257416-581A-4C42-85CC-B6EAD9DED97F         2  1315925633   \n",
       "2    3  B80D7891-93CF-49E8-86E8-182B618E68F2         3  1315925633   \n",
       "3    4  BB012003-78F5-406D-8A87-7FF8A425EE3F         4  1315925633   \n",
       "4    5  945825F9-2F5D-47C2-A16B-75B93E61E1AD         5  1315925633   \n",
       "\n",
       "  created_meta  updated_at updated_meta  \\\n",
       "0       392904  1315925633       392904   \n",
       "1       392904  1315925633       392904   \n",
       "2       392904  1315925633       392904   \n",
       "3       392904  1315925633       392904   \n",
       "4       392904  1315925633       392904   \n",
       "\n",
       "                                                meta ELECTION  CANDID  \\\n",
       "0  {\\n  \"invalidCells\" : {\\n    \"1519001\" : \"TOTA...     None  CANDID   \n",
       "1                                               {\\n}     2001      B4   \n",
       "2                                               {\\n}     2001     445   \n",
       "3                                               {\\n}     2001      HF   \n",
       "4                                               {\\n}     2001      IR   \n",
       "\n",
       "                 CANDNAME OFFICECD  OFFICEBORO OFFICEDIST  CANCLASS  \\\n",
       "0                CANDNAME     None  OFFICEBORO       None  CANCLASS   \n",
       "1        Aboulafia, Sandy        5        None         44         P   \n",
       "2         Adams, Jackie R        5        None          7         P   \n",
       "3       Addabbo, Joseph P        5        None         32         P   \n",
       "4  Alamo-Estrada, Agustin        5        None         14         P   \n",
       "\n",
       "  PRIMARYPAY GENERALPAY RUNOFFPAY   TOTALPAY  \n",
       "0       None       None      None       None  \n",
       "1   45410.00          0         0   45410.00  \n",
       "2   11073.00          0         0   11073.00  \n",
       "3   75350.00   73970.00         0  149320.00  \n",
       "4   25000.00    2400.00         0   27400.00  "
      ]
     },
     "execution_count": 49,
     "metadata": {},
     "output_type": "execute_result"
    }
   ],
   "source": [
    "df = pd.DataFrame(data['data'])\n",
    "cols = [i['name'] for i in data['meta']['view']['columns']]\n",
    "df.columns = cols\n",
    "df.head()"
   ]
  },
  {
   "cell_type": "markdown",
   "metadata": {},
   "source": [
    "### What's wrong with the first row of the DataFrame?"
   ]
  },
  {
   "cell_type": "code",
   "execution_count": 52,
   "metadata": {
    "ExecuteTime": {
     "end_time": "2020-01-06T10:42:39.253034Z",
     "start_time": "2020-01-06T10:42:39.245395Z"
    }
   },
   "outputs": [
    {
     "data": {
      "text/plain": [
       "'{\\n  \"invalidCells\" : {\\n    \"1519001\" : \"TOTALPAY\",\\n    \"1518998\" : \"PRIMARYPAY\",\\n    \"1519000\" : \"RUNOFFPAY\",\\n    \"1518999\" : \"GENERALPAY\",\\n    \"1518994\" : \"OFFICECD\",\\n    \"1518996\" : \"OFFICEDIST\",\\n    \"1518991\" : \"ELECTION\"\\n  }\\n}'"
      ]
     },
     "execution_count": 52,
     "metadata": {},
     "output_type": "execute_result"
    }
   ],
   "source": [
    "df.meta.iloc[0]"
   ]
  },
  {
   "cell_type": "markdown",
   "metadata": {},
   "source": [
    "#Your answer here"
   ]
  },
  {
   "cell_type": "markdown",
   "metadata": {},
   "source": [
    "## Summary\n",
    "\n",
    "Congratulations! You've started exploring some more complicated data structures used for the web and got to practice data munging and exploring!"
   ]
  }
 ],
 "metadata": {
  "kernelspec": {
   "display_name": "learn_env",
   "language": "python",
   "name": "learn_env"
  },
  "language_info": {
   "codemirror_mode": {
    "name": "ipython",
    "version": 3
   },
   "file_extension": ".py",
   "mimetype": "text/x-python",
   "name": "python",
   "nbconvert_exporter": "python",
   "pygments_lexer": "ipython3",
   "version": "3.6.6"
  },
  "toc": {
   "base_numbering": 1,
   "nav_menu": {},
   "number_sections": true,
   "sideBar": true,
   "skip_h1_title": false,
   "title_cell": "Table of Contents",
   "title_sidebar": "Contents",
   "toc_cell": true,
   "toc_position": {},
   "toc_section_display": true,
   "toc_window_display": true
  },
  "varInspector": {
   "cols": {
    "lenName": 16,
    "lenType": 16,
    "lenVar": 40
   },
   "kernels_config": {
    "python": {
     "delete_cmd_postfix": "",
     "delete_cmd_prefix": "del ",
     "library": "var_list.py",
     "varRefreshCmd": "print(var_dic_list())"
    },
    "r": {
     "delete_cmd_postfix": ") ",
     "delete_cmd_prefix": "rm(",
     "library": "var_list.r",
     "varRefreshCmd": "cat(var_dic_list()) "
    }
   },
   "types_to_exclude": [
    "module",
    "function",
    "builtin_function_or_method",
    "instance",
    "_Feature"
   ],
   "window_display": false
  }
 },
 "nbformat": 4,
 "nbformat_minor": 2
}
